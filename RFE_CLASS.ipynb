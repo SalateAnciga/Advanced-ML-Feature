{
 "cells": [
  {
   "cell_type": "code",
   "execution_count": 1,
   "id": "47a5b734-13b8-482a-bd75-3b199fc3d984",
   "metadata": {},
   "outputs": [],
   "source": [
    "#Import Header Files\n",
    "import pandas as pd\n",
    "from sklearn.model_selection import train_test_split \n",
    "import time\n",
    "import numpy as np\n",
    "from sklearn.preprocessing import StandardScaler\n",
    "import pickle\n",
    "import matplotlib.pyplot as plt\n",
    "from sklearn.linear_model import LogisticRegression\n",
    "from sklearn.neighbors import KNeighborsClassifier   \n",
    "from sklearn.svm import SVC\n",
    "from sklearn.ensemble import RandomForestClassifier\n",
    "from sklearn.naive_bayes import GaussianNB\n",
    "from sklearn.tree import DecisionTreeClassifier\n",
    "from sklearn.feature_selection import RFE\n",
    "from sklearn.metrics import confusion_matrix\n",
    "from sklearn.metrics import accuracy_score \n",
    "from sklearn.metrics import classification_report \n",
    "import warnings\n"
   ]
  },
  {
   "cell_type": "code",
   "execution_count": 22,
   "id": "e621043f-bde0-4a55-8513-ab3575566c6c",
   "metadata": {},
   "outputs": [],
   "source": [
    "#Create RFE Function\n",
    "def rfeFeature(indep_X,dep_Y,n):#Function with 3 arguments\n",
    "        rfelist=[]#create a empty list\n",
    "        \n",
    "        log_model = LogisticRegression(solver='lbfgs') #Create model \n",
    "        RF = RandomForestClassifier(n_estimators = 10, criterion = 'entropy', random_state = 0)\n",
    "        DT= DecisionTreeClassifier(criterion = 'gini', max_features='sqrt',splitter='best',random_state = 0)\n",
    "        svc_model = SVC(kernel = 'linear', random_state = 0)\n",
    "        rfemodellist=[log_model,RF,DT,svc_model]# create a list with  4 model\n",
    "       \n",
    "        for i in   rfemodellist:\n",
    "            print(i)\n",
    "            log_rfe = RFE(estimator=i,n_features_to_select=n)#call RFE method\n",
    "            #log_rfe = RFE(i,n)\n",
    "            log_fit = log_rfe.fit(indep_X, dep_Y)#Create model\n",
    "            log_rfe_feature=log_fit.transform(indep_X)\n",
    "            rfelist.append(log_rfe_feature)\n",
    "        return rfelist\n",
    "    "
   ]
  },
  {
   "cell_type": "code",
   "execution_count": 23,
   "id": "dac97ada-7124-4e33-ae79-bfd3338078c1",
   "metadata": {},
   "outputs": [],
   "source": [
    "#Preprocessing data\n",
    "def split_scalar(indep_X,dep_Y):\n",
    "        X_train, X_test, y_train, y_test = train_test_split(indep_X, dep_Y, test_size = 0.25, random_state = 0)\n",
    "        sc = StandardScaler()\n",
    "        X_train = sc.fit_transform(X_train)\n",
    "        X_test = sc.transform(X_test)\n",
    "        return X_train, X_test, y_train, y_test"
   ]
  },
  {
   "cell_type": "code",
   "execution_count": 24,
   "id": "682493c8-0305-4f52-a767-5f438e48f5e2",
   "metadata": {},
   "outputs": [],
   "source": [
    "#Find evaluation matrices    \n",
    "def cm_prediction(classifier,X_test):\n",
    "     y_pred = classifier.predict(X_test)\n",
    "     cm = confusion_matrix(y_test, y_pred)  \n",
    "     Accuracy=accuracy_score(y_test, y_pred )  \n",
    "     report=classification_report(y_test, y_pred)\n",
    "     return  classifier,Accuracy,report,X_test,y_test,cm\n"
   ]
  },
  {
   "cell_type": "code",
   "execution_count": 25,
   "id": "26262a86-0d57-4b63-8612-716fc45cb797",
   "metadata": {},
   "outputs": [],
   "source": [
    "def logistic(X_train,y_train,X_test):       \n",
    "        classifier = LogisticRegression(random_state = 0)\n",
    "        classifier.fit(X_train, y_train)\n",
    "        classifier,Accuracy,report,X_test,y_test,cm=cm_prediction(classifier,X_test)\n",
    "        return  classifier,Accuracy,report,X_test,y_test,cm      \n",
    "   "
   ]
  },
  {
   "cell_type": "code",
   "execution_count": 26,
   "id": "30bf84ab-b9e6-4d74-97fa-cde43da4ce04",
   "metadata": {},
   "outputs": [],
   "source": [
    "#SVM Linear\n",
    "def svm_linear(X_train,y_train,X_test):    \n",
    "        classifier = SVC(kernel = 'linear', random_state = 0)\n",
    "        classifier.fit(X_train, y_train)\n",
    "        classifier,Accuracy,report,X_test,y_test,cm=cm_prediction(classifier,X_test)\n",
    "        return  classifier,Accuracy,report,X_test,y_test,cm\n",
    "    "
   ]
  },
  {
   "cell_type": "code",
   "execution_count": 27,
   "id": "d496173c-eb05-4de6-80dd-1fffa3f4df13",
   "metadata": {},
   "outputs": [],
   "source": [
    "#SVM NON Linear\n",
    "def svm_NL(X_train,y_train,X_test):\n",
    "        classifier = SVC(kernel = 'rbf', random_state = 0)\n",
    "        classifier.fit(X_train, y_train)\n",
    "        classifier,Accuracy,report,X_test,y_test,cm=cm_prediction(classifier,X_test)\n",
    "        return  classifier,Accuracy,report,X_test,y_test,cm\n"
   ]
  },
  {
   "cell_type": "code",
   "execution_count": 28,
   "id": "ed3cdf03-e237-40f6-bf5a-c9793453cc91",
   "metadata": {},
   "outputs": [],
   "source": [
    "#Navie Bayes\n",
    "def Navie(X_train,y_train,X_test):       \n",
    "        classifier = GaussianNB()\n",
    "        classifier.fit(X_train, y_train)\n",
    "        classifier,Accuracy,report,X_test,y_test,cm=cm_prediction(classifier,X_test)\n",
    "        return  classifier,Accuracy,report,X_test,y_test,cm         "
   ]
  },
  {
   "cell_type": "code",
   "execution_count": 29,
   "id": "556cbc43-96a1-443b-9e3e-76e8da7cd801",
   "metadata": {},
   "outputs": [],
   "source": [
    "#K Nearest Neighbour\n",
    "def knn(X_train,y_train,X_test):\n",
    "        classifier = KNeighborsClassifier(n_neighbors = 5, metric = 'minkowski', p = 2)\n",
    "        classifier.fit(X_train, y_train)\n",
    "        classifier,Accuracy,report,X_test,y_test,cm=cm_prediction(classifier,X_test)\n",
    "        return  classifier,Accuracy,report,X_test,y_test,cm"
   ]
  },
  {
   "cell_type": "code",
   "execution_count": 30,
   "id": "943198f8-31f8-4b7b-8fc9-a0c58e506a5b",
   "metadata": {},
   "outputs": [],
   "source": [
    "#Decision Tree\n",
    "def Decision(X_train,y_train,X_test):\n",
    "        classifier = DecisionTreeClassifier(criterion = 'entropy', random_state = 0)\n",
    "        classifier.fit(X_train, y_train)\n",
    "        classifier,Accuracy,report,X_test,y_test,cm=cm_prediction(classifier,X_test)\n",
    "        return  classifier,Accuracy,report,X_test,y_test,cm      \n"
   ]
  },
  {
   "cell_type": "code",
   "execution_count": 31,
   "id": "960f81c2-79bd-43f3-bf65-66c6afbb62d5",
   "metadata": {},
   "outputs": [],
   "source": [
    "#Random Forest\n",
    "def random(X_train,y_train,X_test):     \n",
    "        classifier = RandomForestClassifier(n_estimators = 10, criterion = 'entropy', random_state = 0)\n",
    "        classifier.fit(X_train, y_train)\n",
    "        classifier,Accuracy,report,X_test,y_test,cm=cm_prediction(classifier,X_test)\n",
    "        return  classifier,Accuracy,report,X_test,y_test,cm\n",
    "    "
   ]
  },
  {
   "cell_type": "code",
   "execution_count": 32,
   "id": "4ada8ec0-1f65-495b-8fa9-d02527d6401e",
   "metadata": {},
   "outputs": [],
   "source": [
    "#Create output in table Format\n",
    "def rfe_classification(acclog,accsvml,accsvmnl,accknn,accnav,accdes,accrf): \n",
    "    rfedataframe=pd.DataFrame(index=['Logistic','SVC','Random','DecisionTree'],columns=['Logistic','SVMl','SVMnl','KNN','Navie','Decision','Random'])\n",
    "    #min_len = min(\n",
    "    #len(acclog),\n",
    "    #len(accsvml),\n",
    "    #len(accsvmnl),\n",
    "    #len(accknn),\n",
    "    #len(accnav), \n",
    "    #len(accdes),    \n",
    "    #len(accrf),\n",
    "    #len(rfedataframe.index)\n",
    "     #)\n",
    "\n",
    "    #for number in range(min_len):\n",
    "     #   index = rfedataframe.index[number]\n",
    "     #   rfedataframe.loc[index, 'Logistic'] = acclog[number]\n",
    "      #  rfedataframe.loc[index, 'SVMl'] = accsvml[number]\n",
    "      #  rfedataframe.loc[index, 'SVmnl'] = accsvmnl[number]\n",
    "      #  rfedataframe.loc[index, 'KNN'] = accknn[number]\n",
    "      #  rfedataframe.loc[index, 'Navie'] = accnav[number]\n",
    "      #  rfedataframe.loc[index, 'Decision'] = accdes[number]\n",
    "      #  rfedataframe.loc[index, 'Random'] = accrf[number]\n",
    "      #  return rfedataframe\n",
    "\n",
    "    for number,idex in enumerate(rfedataframe.index):\n",
    "        rfedataframe['Logistic'][idex]=acclog[number]       \n",
    "        rfedataframe['SVMl'][idex]=accsvml[number]\n",
    "        rfedataframe['SVMnl'][idex]=accsvmnl[number]\n",
    "        rfedataframe['KNN'][idex]=accknn[number]\n",
    "        rfedataframe['Navie'][idex]=accnav[number]\n",
    "        rfedataframe['Decision'][idex]=accdes[number]\n",
    "        rfedataframe['Random'][idex]=accrf[number]\n",
    "    return rfedataframe\n",
    "\n"
   ]
  },
  {
   "cell_type": "code",
   "execution_count": 33,
   "id": "3d61142a-195f-44bd-8185-ff1a710c9d1b",
   "metadata": {},
   "outputs": [],
   "source": [
    "#Read Dataset\n",
    "dataset1=pd.read_csv(\"prep.csv\",index_col=None)\n",
    "df2=dataset1\n",
    "df2 = pd.get_dummies(df2, drop_first=True)\n",
    "indep_X=df2.drop('classification_yes',axis= 1)\n",
    "dep_Y=df2['classification_yes']\n"
   ]
  },
  {
   "cell_type": "code",
   "execution_count": 34,
   "id": "72d51e1d-9222-4929-98fb-22a1bf353b1b",
   "metadata": {},
   "outputs": [],
   "source": [
    "warnings.filterwarnings(\"ignore\")"
   ]
  },
  {
   "cell_type": "code",
   "execution_count": null,
   "id": "3fdfc903-8806-4945-ade9-a52483f6a182",
   "metadata": {},
   "outputs": [],
   "source": []
  },
  {
   "cell_type": "code",
   "execution_count": 39,
   "id": "3c8a5d54-1e6d-4985-8283-539fa92d1c50",
   "metadata": {},
   "outputs": [
    {
     "name": "stdout",
     "output_type": "stream",
     "text": [
      "LogisticRegression()\n",
      "RandomForestClassifier(criterion='entropy', n_estimators=10, random_state=0)\n",
      "DecisionTreeClassifier(max_features='sqrt', random_state=0)\n",
      "SVC(kernel='linear', random_state=0)\n"
     ]
    }
   ],
   "source": [
    "#Call RFE FEATURE SELECTION Function\n",
    "rfelist=rfeFeature(indep_X,dep_Y,5)\n",
    "acclog=[]\n",
    "accsvml=[]\n",
    "accsvmnl=[]\n",
    "accknn=[]\n",
    "accnav=[]\n",
    "accdes=[]\n",
    "accrf=[]\n"
   ]
  },
  {
   "cell_type": "code",
   "execution_count": null,
   "id": "08c82fa3-acb5-4729-a012-5f058f75e7a2",
   "metadata": {},
   "outputs": [],
   "source": []
  },
  {
   "cell_type": "code",
   "execution_count": null,
   "id": "0d86380d-18a6-46ef-9163-da7783db28e4",
   "metadata": {},
   "outputs": [],
   "source": []
  },
  {
   "cell_type": "code",
   "execution_count": 40,
   "id": "566fd71b-3824-409d-8b56-dbdb0057a46f",
   "metadata": {},
   "outputs": [
    {
     "name": "stdout",
     "output_type": "stream",
     "text": [
      "[]\n",
      "[]\n",
      "[]\n",
      "[]\n",
      "[]\n",
      "[]\n",
      "[]\n",
      "[0.98]\n",
      "[0.98]\n",
      "[0.98]\n",
      "[0.98]\n",
      "[0.98]\n",
      "[0.98]\n",
      "[0.98]\n",
      "[0.98, 0.97]\n",
      "[0.98, 0.97]\n",
      "[0.98, 0.98]\n",
      "[0.98, 0.97]\n",
      "[0.98, 0.91]\n",
      "[0.98, 0.96]\n",
      "[0.98, 0.98]\n",
      "[0.98, 0.97, 0.95]\n",
      "[0.98, 0.97, 0.98]\n",
      "[0.98, 0.98, 0.93]\n",
      "[0.98, 0.97, 0.94]\n",
      "[0.98, 0.91, 0.85]\n",
      "[0.98, 0.96, 0.97]\n",
      "[0.98, 0.98, 0.98]\n"
     ]
    }
   ],
   "source": [
    "#Apply Best Feature in Regression Algorithm\n",
    "for i in rfelist:   \n",
    "    X_train, X_test, y_train, y_test=split_scalar(i,dep_Y)   \n",
    "    \n",
    "    classifier,Accuracy,report,X_test,y_test,cm=logistic(X_train,y_train,X_test)\n",
    "    print(acclog)\n",
    "    acclog.append(Accuracy)\n",
    "    \n",
    "    classifier,Accuracy,report,X_test,y_test,cm=svm_linear(X_train,y_train,X_test)  \n",
    "    print(accsvml)\n",
    "    accsvml.append(Accuracy)\n",
    "    \n",
    "    classifier,Accuracy,report,X_test,y_test,cm=svm_NL(X_train,y_train,X_test)  \n",
    "    print(accsvmnl) \n",
    "    accsvmnl.append(Accuracy)\n",
    "    \n",
    "    classifier,Accuracy,report,X_test,y_test,cm=knn(X_train,y_train,X_test)  \n",
    "    print(accknn)\n",
    "    accknn.append(Accuracy)\n",
    "    \n",
    "    classifier,Accuracy,report,X_test,y_test,cm=Navie(X_train,y_train,X_test)  \n",
    "    print(accnav)\n",
    "    accnav.append(Accuracy)\n",
    "    \n",
    "    classifier,Accuracy,report,X_test,y_test,cm=Decision(X_train,y_train,X_test)  \n",
    "    print(accdes)\n",
    "    accdes.append(Accuracy)\n",
    "    \n",
    "    classifier,Accuracy,report,X_test,y_test,cm=random(X_train,y_train,X_test)  \n",
    "    print(accrf)\n",
    "    accrf.append(Accuracy)\n",
    "    \n"
   ]
  },
  {
   "cell_type": "code",
   "execution_count": 41,
   "id": "146761f8-ba68-4f54-b6ec-006984f7e519",
   "metadata": {},
   "outputs": [],
   "source": [
    "result=rfe_classification(acclog,accsvml,accsvmnl,accknn,accnav,accdes,accrf)\n"
   ]
  },
  {
   "cell_type": "code",
   "execution_count": 42,
   "id": "5d50a757-0361-427d-9646-356e0773b888",
   "metadata": {},
   "outputs": [
    {
     "data": {
      "text/html": [
       "<div>\n",
       "<style scoped>\n",
       "    .dataframe tbody tr th:only-of-type {\n",
       "        vertical-align: middle;\n",
       "    }\n",
       "\n",
       "    .dataframe tbody tr th {\n",
       "        vertical-align: top;\n",
       "    }\n",
       "\n",
       "    .dataframe thead th {\n",
       "        text-align: right;\n",
       "    }\n",
       "</style>\n",
       "<table border=\"1\" class=\"dataframe\">\n",
       "  <thead>\n",
       "    <tr style=\"text-align: right;\">\n",
       "      <th></th>\n",
       "      <th>Logistic</th>\n",
       "      <th>SVMl</th>\n",
       "      <th>SVMnl</th>\n",
       "      <th>KNN</th>\n",
       "      <th>Navie</th>\n",
       "      <th>Decision</th>\n",
       "      <th>Random</th>\n",
       "    </tr>\n",
       "  </thead>\n",
       "  <tbody>\n",
       "    <tr>\n",
       "      <th>Logistic</th>\n",
       "      <td>0.98</td>\n",
       "      <td>0.98</td>\n",
       "      <td>0.98</td>\n",
       "      <td>0.98</td>\n",
       "      <td>0.98</td>\n",
       "      <td>0.98</td>\n",
       "      <td>0.98</td>\n",
       "    </tr>\n",
       "    <tr>\n",
       "      <th>SVC</th>\n",
       "      <td>0.97</td>\n",
       "      <td>0.97</td>\n",
       "      <td>0.98</td>\n",
       "      <td>0.97</td>\n",
       "      <td>0.91</td>\n",
       "      <td>0.96</td>\n",
       "      <td>0.98</td>\n",
       "    </tr>\n",
       "    <tr>\n",
       "      <th>Random</th>\n",
       "      <td>0.95</td>\n",
       "      <td>0.98</td>\n",
       "      <td>0.93</td>\n",
       "      <td>0.94</td>\n",
       "      <td>0.85</td>\n",
       "      <td>0.97</td>\n",
       "      <td>0.98</td>\n",
       "    </tr>\n",
       "    <tr>\n",
       "      <th>DecisionTree</th>\n",
       "      <td>0.99</td>\n",
       "      <td>0.99</td>\n",
       "      <td>0.99</td>\n",
       "      <td>0.99</td>\n",
       "      <td>0.99</td>\n",
       "      <td>0.99</td>\n",
       "      <td>0.99</td>\n",
       "    </tr>\n",
       "  </tbody>\n",
       "</table>\n",
       "</div>"
      ],
      "text/plain": [
       "             Logistic  SVMl SVMnl   KNN Navie Decision Random\n",
       "Logistic         0.98  0.98  0.98  0.98  0.98     0.98   0.98\n",
       "SVC              0.97  0.97  0.98  0.97  0.91     0.96   0.98\n",
       "Random           0.95  0.98  0.93  0.94  0.85     0.97   0.98\n",
       "DecisionTree     0.99  0.99  0.99  0.99  0.99     0.99   0.99"
      ]
     },
     "execution_count": 42,
     "metadata": {},
     "output_type": "execute_result"
    }
   ],
   "source": [
    "result"
   ]
  },
  {
   "cell_type": "code",
   "execution_count": null,
   "id": "22f57906-dff2-4ab7-befa-10e49d610385",
   "metadata": {},
   "outputs": [],
   "source": []
  },
  {
   "cell_type": "code",
   "execution_count": null,
   "id": "eddc0268-b6d7-4336-bdf2-afeeaa98c93a",
   "metadata": {},
   "outputs": [],
   "source": []
  }
 ],
 "metadata": {
  "kernelspec": {
   "display_name": "Python 3 (ipykernel)",
   "language": "python",
   "name": "python3"
  },
  "language_info": {
   "codemirror_mode": {
    "name": "ipython",
    "version": 3
   },
   "file_extension": ".py",
   "mimetype": "text/x-python",
   "name": "python",
   "nbconvert_exporter": "python",
   "pygments_lexer": "ipython3",
   "version": "3.12.4"
  }
 },
 "nbformat": 4,
 "nbformat_minor": 5
}
