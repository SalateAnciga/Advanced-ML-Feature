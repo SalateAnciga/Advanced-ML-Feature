{
 "cells": [
  {
   "cell_type": "code",
   "execution_count": 1,
   "id": "3406ee38-5478-46ee-b197-422a3c2b32ee",
   "metadata": {},
   "outputs": [],
   "source": [
    "#Import Header Files\n",
    "import pandas as pd\n",
    "from sklearn.model_selection import train_test_split \n",
    "import time\n",
    "import numpy as np\n",
    "from sklearn.preprocessing import StandardScaler\n",
    "from sklearn.feature_selection import RFE\n",
    "from sklearn.linear_model import LogisticRegression\n",
    "import pickle\n",
    "import matplotlib.pyplot as plt\n",
    "from sklearn.linear_model import LinearRegression\n",
    "from sklearn.svm import SVR\n",
    "from sklearn.tree import DecisionTreeRegressor\n",
    "from sklearn.ensemble import RandomForestRegressor\n",
    "import warnings"
   ]
  },
  {
   "cell_type": "code",
   "execution_count": null,
   "id": "14bbb7ff-efa9-49fb-8354-f5332a7be59c",
   "metadata": {},
   "outputs": [],
   "source": []
  },
  {
   "cell_type": "code",
   "execution_count": 2,
   "id": "26214025-d002-44a7-873b-f90e2f69afed",
   "metadata": {},
   "outputs": [],
   "source": [
    "#Preprocessing data\n",
    "def split_scalar(indep_X,dep_Y):\n",
    "        X_train, X_test, y_train, y_test = train_test_split(indep_X, dep_Y, test_size = 0.25, random_state = 0)\n",
    "        sc = StandardScaler()\n",
    "        X_train = sc.fit_transform(X_train)\n",
    "        X_test = sc.transform(X_test)    \n",
    "        return X_train, X_test, y_train, y_test"
   ]
  },
  {
   "cell_type": "code",
   "execution_count": 3,
   "id": "5ce1995b-0c68-430d-9a3f-8d3aa49de28d",
   "metadata": {},
   "outputs": [],
   "source": [
    "#Find evaluation matrices\n",
    "def r2_prediction(regressor,X_test,y_test):\n",
    "     y_pred = regressor.predict(X_test)\n",
    "     from sklearn.metrics import r2_score\n",
    "     r2=r2_score(y_test,y_pred)\n",
    "     return r2\n",
    " "
   ]
  },
  {
   "cell_type": "code",
   "execution_count": 4,
   "id": "dcce923c-e241-4e8f-8fd0-75bc7d3c63ba",
   "metadata": {},
   "outputs": [],
   "source": [
    "#Linear Algorithm\n",
    "def Linear(X_train,y_train,X_test):       \n",
    "        # Fitting K-NN to the Training set\n",
    "        from sklearn.linear_model import LinearRegression\n",
    "        regressor = LinearRegression()\n",
    "        regressor.fit(X_train, y_train)\n",
    "        r2=r2_prediction(regressor,X_test,y_test)\n",
    "        return  r2   \n",
    "    "
   ]
  },
  {
   "cell_type": "code",
   "execution_count": 5,
   "id": "43ff9a32-625f-4624-9cac-f11fcccbb651",
   "metadata": {},
   "outputs": [],
   "source": [
    "#SVM Linear\n",
    "def svm_linear(X_train,y_train,X_test):        \n",
    "        regressor = SVR(kernel = 'linear')\n",
    "        regressor.fit(X_train, y_train)\n",
    "        r2=r2_prediction(regressor,X_test,y_test)\n",
    "        return  r2  \n",
    "    "
   ]
  },
  {
   "cell_type": "code",
   "execution_count": 6,
   "id": "d62b6ba4-73b7-40fd-9d22-cd28a4bfa501",
   "metadata": {},
   "outputs": [],
   "source": [
    "#SVM NoN Linear\n",
    "def svm_NL(X_train,y_train,X_test):     \n",
    "        regressor = SVR(kernel = 'rbf')\n",
    "        regressor.fit(X_train, y_train)\n",
    "        r2=r2_prediction(regressor,X_test,y_test)\n",
    "        return  r2  \n",
    "     \n"
   ]
  },
  {
   "cell_type": "code",
   "execution_count": 7,
   "id": "a32a5abf-533e-40c4-a472-5282f57a5e67",
   "metadata": {},
   "outputs": [],
   "source": [
    "#Decision tree\n",
    "def Decision(X_train,y_train,X_test):\n",
    "        regressor = DecisionTreeRegressor(random_state = 0)\n",
    "        regressor.fit(X_train, y_train)\n",
    "        r2=r2_prediction(regressor,X_test,y_test)\n",
    "        return  r2  \n",
    "     "
   ]
  },
  {
   "cell_type": "code",
   "execution_count": 8,
   "id": "138fbf8d-0917-4141-bb3b-94fe0520dd4a",
   "metadata": {},
   "outputs": [],
   "source": [
    "#ramdom Forest\n",
    "def random(X_train,y_train,X_test):       \n",
    "        # Fitting K-NN to the Training set\n",
    "        from sklearn.ensemble import RandomForestRegressor\n",
    "        regressor = RandomForestRegressor(n_estimators = 10, random_state = 0)\n",
    "        regressor.fit(X_train, y_train)\n",
    "        r2=r2_prediction(regressor,X_test,y_test)\n",
    "        return  r2 \n",
    "    "
   ]
  },
  {
   "cell_type": "code",
   "execution_count": 9,
   "id": "68152252-2d8f-4bba-9870-a88a2a203578",
   "metadata": {},
   "outputs": [],
   "source": [
    "#Create RFE Function\n",
    "def rfeFeature(indep_X,dep_Y,n):\n",
    "        rfelist=[]\n",
    "        lin = LinearRegression()      \n",
    "        SVRl = SVR(kernel = 'linear')      \n",
    "        #SVRnl = SVR(kernel = 'rbf')\n",
    "        dec = DecisionTreeRegressor(random_state = 0)\n",
    "        rf = RandomForestRegressor(n_estimators = 10, random_state = 0)\n",
    "        rfemodellist=[lin,SVRl,dec,rf] \n",
    "        for i in   rfemodellist:\n",
    "            print(i)\n",
    "            log_rfe = RFE(estimator=i,n_features_to_select=n)\n",
    "            log_fit = log_rfe.fit(indep_X, dep_Y)\n",
    "            log_rfe_feature=log_fit.transform(indep_X)\n",
    "            rfelist.append(log_rfe_feature)\n",
    "\n",
    "        return rfelist"
   ]
  },
  {
   "cell_type": "code",
   "execution_count": 10,
   "id": "45431bfd-4e3b-4f6f-b73b-714a2a66879e",
   "metadata": {},
   "outputs": [],
   "source": [
    "#Create output in table Format\n",
    "def rfe_regression(acclin,accsvml,accsvmnl,accdes,accrf): \n",
    "    rfedataframe=pd.DataFrame(index=['Linear','SVRl','Random','DecisionTree'],columns=['Linear','SVMl',\n",
    "                                                                                        'Decision','Random'])\n",
    "\n",
    "    for number,idex in enumerate(rfedataframe.index):\n",
    "        \n",
    "        rfedataframe['Linear'][idex]=acclin[number]       \n",
    "        rfedataframe['SVMl'][idex]=accsvml[number]\n",
    "        #rfedataframe['SVMnl'][idex]=accsvmnl[number]\n",
    "        rfedataframe['Decision'][idex]=accdes[number]\n",
    "        rfedataframe['Random'][idex]=accrf[number]\n",
    "    return rfedataframe\n"
   ]
  },
  {
   "cell_type": "code",
   "execution_count": 11,
   "id": "55dc7d05-771d-4194-8a96-e08184ce3dad",
   "metadata": {},
   "outputs": [],
   "source": [
    "#Read Dataset\n",
    "dataset1=pd.read_csv(\"prep.csv\",index_col=None)\n",
    "df2=dataset1\n",
    "df2 = pd.get_dummies(df2, drop_first=True)\n",
    "\n",
    "indep_X=df2.drop('classification_yes',axis=1)\n",
    "dep_Y=df2['classification_yes']\n"
   ]
  },
  {
   "cell_type": "code",
   "execution_count": 12,
   "id": "5538817d-13ac-4c72-8a5f-48f64a56f77c",
   "metadata": {},
   "outputs": [
    {
     "name": "stdout",
     "output_type": "stream",
     "text": [
      "LinearRegression()\n",
      "SVR(kernel='linear')\n",
      "DecisionTreeRegressor(random_state=0)\n",
      "RandomForestRegressor(n_estimators=10, random_state=0)\n"
     ]
    }
   ],
   "source": [
    "#Apply Best Feature in Regression Algorithm\n",
    "rfelist=rfeFeature(indep_X,dep_Y,5)       \n",
    "\n",
    "acclin=[]\n",
    "accsvml=[]\n",
    "accsvmnl=[]\n",
    "accdes=[]\n",
    "accrf=[]\n",
    "\n",
    "\n",
    "for i in rfelist:   \n",
    "    X_train, X_test, y_train, y_test=split_scalar(i,dep_Y)  \n",
    "    r2_lin=Linear(X_train,y_train,X_test)\n",
    "    acclin.append(r2_lin)\n",
    "    \n",
    "    r2_sl=svm_linear(X_train,y_train,X_test)    \n",
    "    accsvml.append(r2_sl)\n",
    "    \n",
    "    r2_NL=svm_NL(X_train,y_train,X_test)\n",
    "    accsvmnl.append(r2_NL)\n",
    "    \n",
    "    r2_d=Decision(X_train,y_train,X_test)\n",
    "    accdes.append(r2_d)\n",
    "    \n",
    "    r2_r=random(X_train,y_train,X_test)\n",
    "    accrf.append(r2_r)\n",
    "    "
   ]
  },
  {
   "cell_type": "code",
   "execution_count": 13,
   "id": "a3dfe98f-6ee4-498a-b890-7910aab794be",
   "metadata": {},
   "outputs": [],
   "source": [
    "warnings.filterwarnings(\"ignore\")"
   ]
  },
  {
   "cell_type": "code",
   "execution_count": 14,
   "id": "381bee57-8c03-4312-908f-2b8267065a36",
   "metadata": {},
   "outputs": [
    {
     "data": {
      "text/html": [
       "<div>\n",
       "<style scoped>\n",
       "    .dataframe tbody tr th:only-of-type {\n",
       "        vertical-align: middle;\n",
       "    }\n",
       "\n",
       "    .dataframe tbody tr th {\n",
       "        vertical-align: top;\n",
       "    }\n",
       "\n",
       "    .dataframe thead th {\n",
       "        text-align: right;\n",
       "    }\n",
       "</style>\n",
       "<table border=\"1\" class=\"dataframe\">\n",
       "  <thead>\n",
       "    <tr style=\"text-align: right;\">\n",
       "      <th></th>\n",
       "      <th>Linear</th>\n",
       "      <th>SVMl</th>\n",
       "      <th>Decision</th>\n",
       "      <th>Random</th>\n",
       "    </tr>\n",
       "  </thead>\n",
       "  <tbody>\n",
       "    <tr>\n",
       "      <th>Linear</th>\n",
       "      <td>0.620124</td>\n",
       "      <td>0.457136</td>\n",
       "      <td>0.77924</td>\n",
       "      <td>0.780135</td>\n",
       "    </tr>\n",
       "    <tr>\n",
       "      <th>SVRl</th>\n",
       "      <td>0.604508</td>\n",
       "      <td>0.456848</td>\n",
       "      <td>0.776474</td>\n",
       "      <td>0.776745</td>\n",
       "    </tr>\n",
       "    <tr>\n",
       "      <th>Random</th>\n",
       "      <td>0.674403</td>\n",
       "      <td>0.628206</td>\n",
       "      <td>0.696181</td>\n",
       "      <td>0.815538</td>\n",
       "    </tr>\n",
       "    <tr>\n",
       "      <th>DecisionTree</th>\n",
       "      <td>0.686361</td>\n",
       "      <td>0.64332</td>\n",
       "      <td>0.836806</td>\n",
       "      <td>0.845303</td>\n",
       "    </tr>\n",
       "  </tbody>\n",
       "</table>\n",
       "</div>"
      ],
      "text/plain": [
       "                Linear      SVMl  Decision    Random\n",
       "Linear        0.620124  0.457136   0.77924  0.780135\n",
       "SVRl          0.604508  0.456848  0.776474  0.776745\n",
       "Random        0.674403  0.628206  0.696181  0.815538\n",
       "DecisionTree  0.686361   0.64332  0.836806  0.845303"
      ]
     },
     "execution_count": 14,
     "metadata": {},
     "output_type": "execute_result"
    }
   ],
   "source": [
    "#Output\n",
    "result=rfe_regression(acclin,accsvml,accsvmnl,accdes,accrf)\n",
    "result\n"
   ]
  },
  {
   "cell_type": "code",
   "execution_count": null,
   "id": "5c510ea3-d446-4501-a7f4-4ec72b58049b",
   "metadata": {},
   "outputs": [],
   "source": []
  }
 ],
 "metadata": {
  "kernelspec": {
   "display_name": "Python 3 (ipykernel)",
   "language": "python",
   "name": "python3"
  },
  "language_info": {
   "codemirror_mode": {
    "name": "ipython",
    "version": 3
   },
   "file_extension": ".py",
   "mimetype": "text/x-python",
   "name": "python",
   "nbconvert_exporter": "python",
   "pygments_lexer": "ipython3",
   "version": "3.12.4"
  }
 },
 "nbformat": 4,
 "nbformat_minor": 5
}
