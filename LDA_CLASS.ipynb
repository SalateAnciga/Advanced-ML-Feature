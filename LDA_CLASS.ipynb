{
 "cells": [
  {
   "cell_type": "code",
   "execution_count": 1,
   "id": "7418d014-29ac-4f12-b231-6ad4acc99536",
   "metadata": {},
   "outputs": [],
   "source": [
    "#Import Libraries\n",
    "import pandas as pd\n",
    "from sklearn.model_selection import train_test_split \n",
    "import time\n",
    "import numpy as np\n",
    "from sklearn.preprocessing import StandardScaler\n",
    "from sklearn.metrics import confusion_matrix\n",
    "from sklearn.metrics import accuracy_score \n",
    "from sklearn.metrics import classification_report \n",
    "from sklearn.discriminant_analysis import LinearDiscriminantAnalysis as LDA\n",
    "from sklearn.feature_selection import RFE\n",
    "from sklearn.linear_model import LogisticRegression\n",
    "from sklearn.svm import SVC\n",
    "from sklearn.naive_bayes import GaussianNB\n",
    "from sklearn.neighbors import KNeighborsClassifier\n",
    "from sklearn.tree import DecisionTreeClassifier\n",
    "from sklearn.ensemble import RandomForestClassifier\n",
    "import warnings\n",
    "import pickle\n",
    "import matplotlib.pyplot as plt"
   ]
  },
  {
   "cell_type": "code",
   "execution_count": 13,
   "id": "2d4ecce0-1ba8-4620-8bdf-430db76f9b4d",
   "metadata": {},
   "outputs": [],
   "source": [
    "#PCA FUNCTION\n",
    "def lin_discri(indep_x,dep_y,n):#Create a function princomp with 3 parameter\n",
    "   max_components = min(indep_x.shape[1], len(set(dep_y)) - 1)\n",
    "   if n > max_components:\n",
    "        print(f\"Warning: n_components={n} is too large, setting to max allowable = {max_components}\")\n",
    "        n = max_components\n",
    "   lda = LDA(n_components=n)#select best feature using PCA\n",
    "   lda_fit=lda.fit(indep_x,dep_y)#create a model based on best feature\n",
    "   lda_features=lda_fit.transform(indep_x)#Create a new indep_x dataset based on k values\n",
    "   #explained_variance=pca.explained_variance_ratio_  \n",
    "   return lda_features"
   ]
  },
  {
   "cell_type": "code",
   "execution_count": 14,
   "id": "90c63fa7-58cc-40bc-ab0d-8cfb71f6fba2",
   "metadata": {},
   "outputs": [],
   "source": [
    "#STANDARDIZATION FUNCTION\n",
    "def split_scalar(indep_x,dep_y):\n",
    "   X_train, X_test, y_train, y_test = train_test_split(indep_x, dep_y, test_size = 0.25, random_state = 0)#split training set and test set\n",
    "   sc = StandardScaler() # call standardization function\n",
    "   X_train = sc.fit_transform(X_train)#find mean and standard divation for x_train   \n",
    "   X_test = sc.transform(X_test) \n",
    "   return X_train, X_test, y_train, y_test\n",
    "     "
   ]
  },
  {
   "cell_type": "code",
   "execution_count": 15,
   "id": "a817c8e1-3016-4df3-9296-fed6bec9d296",
   "metadata": {},
   "outputs": [],
   "source": [
    "#FIND EVALUATION METRICS FOR CLASSIFICATION\n",
    "def cm_prediction(classifier,X_test):\n",
    "   y_pred=classifier.predict(X_test)#using predict method we findout the predict output that is stored in y_pred\n",
    "   cm=confusion_matrix(y_test,y_pred)#Confusion matrix compare actual value and predicted value.\n",
    "   accuracy=accuracy_score(y_test,y_pred)#Accuracy = (TP + TN) / (TP + TN + FP + FN)Proportion of true prediction out of total(true+False) prediction\n",
    "   report=classification_report(y_test,y_pred)#Classification report include precision ,recall,f1_score,,support  \n",
    "   return  classifier,accuracy,report,X_test,y_test,cm"
   ]
  },
  {
   "cell_type": "code",
   "execution_count": 16,
   "id": "7a15a7f6-ed49-44d2-9796-f42874875c90",
   "metadata": {},
   "outputs": [],
   "source": [
    "#CLASSIFICATION ALGORITHM\n",
    "def logistic(X_train,y_train,X_test):  \n",
    "   classifier = LogisticRegression(random_state = 0)#Call LogisticRegression Function\n",
    "   classifier.fit(X_train, y_train)# create a model for classifier\n",
    "   classifier,accuracy,report,X_test,y_test,cm=cm_prediction(classifier,X_test)\n",
    "   return  classifier,accuracy,report,X_test,y_test,cm      \n",
    "\n",
    "def svm_linear(X_train,y_train,X_test):\n",
    "    classifier = SVC(kernel = 'linear', random_state = 0)#Call Suppotr Vector Classification Function\n",
    "    classifier.fit(X_train, y_train)# create a model for classifier\n",
    "    classifier,accuracy,report,X_test,y_test,cm=cm_prediction(classifier,X_test)\n",
    "    return  classifier,accuracy,report,X_test,y_test,cm\n",
    "\n",
    "def svm_NL(X_train,y_train,X_test):\n",
    "    classifier = SVC(kernel = 'rbf', random_state = 0)\n",
    "    classifier.fit(X_train, y_train)\n",
    "    classifier,accuracy,report,X_test,y_test,cm=cm_prediction(classifier,X_test)\n",
    "    return  classifier,accuracy,report,X_test,y_test,cm\n",
    "   \n",
    "def Navie(X_train,y_train,X_test):       \n",
    "    classifier = GaussianNB()\n",
    "    classifier.fit(X_train, y_train)\n",
    "    classifier,accuracy,report,X_test,y_test,cm=cm_prediction(classifier,X_test)\n",
    "    return  classifier,accuracy,report,X_test,y_test,cm         \n",
    "        \n",
    "def knn(X_train,y_train,X_test):\n",
    "     classifier = KNeighborsClassifier(n_neighbors = 5, metric = 'minkowski', p = 2)\n",
    "     classifier.fit(X_train, y_train)\n",
    "     classifier,accuracy,report,X_test,y_test,cm=cm_prediction(classifier,X_test)\n",
    "     return  classifier,accuracy,report,X_test,y_test,cm\n",
    "\n",
    "def Decision(X_train,y_train,X_test):     \n",
    "    classifier = DecisionTreeClassifier(criterion = 'entropy', random_state = 0)\n",
    "    classifier.fit(X_train, y_train)\n",
    "    classifier,accuracy,report,X_test,y_test,cm=cm_prediction(classifier,X_test)\n",
    "    return  classifier,accuracy,report,X_test,y_test,cm      \n",
    "\n",
    "\n",
    "def random(X_train,y_train,X_test):  \n",
    "    classifier = RandomForestClassifier(n_estimators = 10, criterion = 'entropy', random_state = 0)\n",
    "    classifier.fit(X_train, y_train)\n",
    "    classifier,accuracy,report,X_test,y_test,cm=cm_prediction(classifier,X_test)\n",
    "    return  classifier,accuracy,report,X_test,y_test,cm\n",
    "    "
   ]
  },
  {
   "cell_type": "code",
   "execution_count": 17,
   "id": "03b80082-4187-4932-974a-fc3aa48bc407",
   "metadata": {},
   "outputs": [],
   "source": [
    "#GIVE THE OUTPUT IN TABLE FORMAT\n",
    "def lda_Classification(acclog,accsvml,accsvmnl,accknn,accnav,accdes,accrf): #Create a function  with 7 arguments\n",
    "    #Create a table,row named as Chisquare,column named as logistic,SVMl,SVMnl,KNN,Navie,Decision,Random  \n",
    "    dataframe=pd.DataFrame(index=['LDA'],columns=['Logistic','SVMl','SVMnl','KNN','Navie','Decision','Random'])\n",
    "    for number,idex in enumerate(dataframe.index):     \n",
    "        dataframe['Logistic'][idex]=acclog[number] #dataframe['Logistic'][lda]=acclog[0]  \n",
    "        dataframe['SVMl'][idex]=accsvml[number] #dataframe['SVMl'][lda]=accsvml[1]\n",
    "        dataframe['SVMnl'][idex]=accsvmnl[number] #dataframe['SVMnl'][lda]=accsvmnl[2]\n",
    "        dataframe['KNN'][idex]=accknn[number] #dataframe['KNN'][lda]=accknn[3]\n",
    "        dataframe['Navie'][idex]=accnav[number] # dataframe['Navie'][lda]=accnav[4]\n",
    "        dataframe['Decision'][idex]=accdes[number]# dataframe['Decision'][lda]=accdes[5]\n",
    "        dataframe['Random'][idex]=accrf[number]  #dataframe['Random']lda]=accrf[6]\n",
    "    return dataframe#return all the values ie stored in dataframe"
   ]
  },
  {
   "cell_type": "code",
   "execution_count": 18,
   "id": "e7c122a1-293a-4153-ba22-0e3e7490f98f",
   "metadata": {},
   "outputs": [],
   "source": [
    "dataset1=pd.read_csv(\"prep.csv\",index_col=None)#read the csv file,index_col=None means index number starts from 0,1...\n",
    "\n",
    "df2=dataset1#Assign dataset1 into df2\n",
    "\n",
    "df2 = pd.get_dummies(df2, drop_first=True)#Convert categorical data into numercial data,drop_first=true means drop on dummy column.\n",
    "\n",
    "indep_x=df2.drop('classification_yes',axis= 1)#drop classification_yes,1 means drop column wise\n",
    "dep_y=df2['classification_yes']#Select classification_yes from df2 and stored it dep_y \n"
   ]
  },
  {
   "cell_type": "code",
   "execution_count": 19,
   "id": "61dc39bf-ec5f-42c7-816d-95f3954ad1cf",
   "metadata": {},
   "outputs": [],
   "source": [
    "warnings.filterwarnings(\"ignore\")"
   ]
  },
  {
   "cell_type": "code",
   "execution_count": 20,
   "id": "d65ee203-f76a-492c-8a5d-ff4e3cc3df97",
   "metadata": {},
   "outputs": [
    {
     "name": "stdout",
     "output_type": "stream",
     "text": [
      "Warning: n_components=2 is too large, setting to max allowable = 1\n"
     ]
    },
    {
     "data": {
      "text/html": [
       "<div>\n",
       "<style scoped>\n",
       "    .dataframe tbody tr th:only-of-type {\n",
       "        vertical-align: middle;\n",
       "    }\n",
       "\n",
       "    .dataframe tbody tr th {\n",
       "        vertical-align: top;\n",
       "    }\n",
       "\n",
       "    .dataframe thead th {\n",
       "        text-align: right;\n",
       "    }\n",
       "</style>\n",
       "<table border=\"1\" class=\"dataframe\">\n",
       "  <thead>\n",
       "    <tr style=\"text-align: right;\">\n",
       "      <th></th>\n",
       "      <th>Logistic</th>\n",
       "      <th>SVMl</th>\n",
       "      <th>SVMnl</th>\n",
       "      <th>KNN</th>\n",
       "      <th>Navie</th>\n",
       "      <th>Decision</th>\n",
       "      <th>Random</th>\n",
       "    </tr>\n",
       "  </thead>\n",
       "  <tbody>\n",
       "    <tr>\n",
       "      <th>LDA</th>\n",
       "      <td>0.98</td>\n",
       "      <td>0.98</td>\n",
       "      <td>0.98</td>\n",
       "      <td>0.98</td>\n",
       "      <td>0.98</td>\n",
       "      <td>0.99</td>\n",
       "      <td>0.99</td>\n",
       "    </tr>\n",
       "  </tbody>\n",
       "</table>\n",
       "</div>"
      ],
      "text/plain": [
       "    Logistic  SVMl SVMnl   KNN Navie Decision Random\n",
       "LDA     0.98  0.98  0.98  0.98  0.98     0.99   0.99"
      ]
     },
     "execution_count": 20,
     "metadata": {},
     "output_type": "execute_result"
    }
   ],
   "source": [
    "LinearDiscri=lin_discri(indep_x,dep_y,2) #Take 2 features(ie) columns and ckeck the accuracy     \n",
    "\n",
    "acclog=[]#Empty list ,that is stored accuracy value of logistic regression \n",
    "accsvml=[]#Empty list ,that is stored accuracy value of support vector machine (linear)\n",
    "accsvmnl=[]#Empty list ,that is stored accuracy value of support vector machine (non linear)\n",
    "accknn=[]#Empty list ,that is stored accuracy value of K nearest neighbour\n",
    "accnav=[]#Empty list ,that is stored accuracy value of Navie Bayes \n",
    "accdes=[]#Empty list ,that is stored accuracy value ofDecision Tree\n",
    "accrf=[]#Empty list ,that is stored accuracy value of Random Forest\n",
    "\n",
    "X_train, X_test, y_train, y_test=split_scalar(LinearDiscri,dep_y)#Kbest select bsst 5 feature,and split into training set and test set   \n",
    "    \n",
    "        \n",
    "classifier,accuracy,report,X_test,y_test,cm=logistic(X_train,y_train,X_test)\n",
    "acclog.append(accuracy)#add the accuracy value to corresponding list\n",
    "\n",
    "classifier,accuracy,report,X_test,y_test,cm=svm_linear(X_train,y_train,X_test)  \n",
    "accsvml.append(accuracy)\n",
    "    \n",
    "classifier,accuracy,report,X_test,y_test,cm=svm_NL(X_train,y_train,X_test)  \n",
    "accsvmnl.append(accuracy)\n",
    "    \n",
    "classifier,accuracy,report,X_test,y_test,cm=knn(X_train,y_train,X_test)  \n",
    "accknn.append(accuracy)\n",
    "    \n",
    "classifier,accuracy,report,X_test,y_test,cm=Navie(X_train,y_train,X_test)  \n",
    "accnav.append(accuracy)\n",
    "    \n",
    "classifier,accuracy,report,X_test,y_test,cm=Decision(X_train,y_train,X_test)  \n",
    "accdes.append(accuracy)\n",
    "    \n",
    "classifier,accuracy,report,X_test,y_test,cm=random(X_train,y_train,X_test)  \n",
    "accrf.append(accuracy)\n",
    "    \n",
    "result=lda_Classification(acclog,accsvml,accsvmnl,accknn,accnav,accdes,accrf)#call selectk_Classification fun\n",
    "\n",
    "result"
   ]
  },
  {
   "cell_type": "code",
   "execution_count": null,
   "id": "a42980f8-2a78-4dac-ba5c-17376f09b561",
   "metadata": {},
   "outputs": [],
   "source": []
  }
 ],
 "metadata": {
  "kernelspec": {
   "display_name": "Python 3 (ipykernel)",
   "language": "python",
   "name": "python3"
  },
  "language_info": {
   "codemirror_mode": {
    "name": "ipython",
    "version": 3
   },
   "file_extension": ".py",
   "mimetype": "text/x-python",
   "name": "python",
   "nbconvert_exporter": "python",
   "pygments_lexer": "ipython3",
   "version": "3.12.4"
  }
 },
 "nbformat": 4,
 "nbformat_minor": 5
}
